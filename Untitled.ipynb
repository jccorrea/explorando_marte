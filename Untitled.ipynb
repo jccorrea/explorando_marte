{
 "cells": [
  {
   "cell_type": "code",
   "execution_count": 4,
   "metadata": {
    "collapsed": false
   },
   "outputs": [
    {
     "name": "stdout",
     "output_type": "stream",
     "text": [
      "[['3 5 N'], ['LDMMDL'], ['6 1 S'], ['DDMMDL']]\n"
     ]
    },
    {
     "data": {
      "text/plain": [
       "\" for line in (sonda_list):\\n    l = str(line)\\n    l = l.replace(' ', ',')\\n    #print (l)\\n    receive_inst(*l)\\n\""
      ]
     },
     "execution_count": 4,
     "metadata": {},
     "output_type": "execute_result"
    }
   ],
   "source": [
    "import csv\n",
    "\n",
    "with open('/Users/j2c/Documents/nasainst.txt', 'r') as f:\n",
    "    reader = csv.reader(f)\n",
    "    sonda_list = list(reader)\n",
    "print (sonda_list)\n",
    "def receive_inst(x, y, d):\n",
    "    print (x)\n",
    "#receive_inst(*sonda_list[0])\n",
    "#print(sonda_list)\n",
    "\"\"\" for line in (sonda_list):.\n",
    "    l = str(line)\n",
    "    l = l.replace(' ', ',')\n",
    "    #print (l)\n",
    "    receive_inst(*l)\n",
    "\"\"\""
   ]
  },
  {
   "cell_type": "code",
   "execution_count": null,
   "metadata": {
    "collapsed": true
   },
   "outputs": [],
   "source": []
  }
 ],
 "metadata": {
  "kernelspec": {
   "display_name": "Python [Root]",
   "language": "python",
   "name": "Python [Root]"
  },
  "language_info": {
   "codemirror_mode": {
    "name": "ipython",
    "version": 3
   },
   "file_extension": ".py",
   "mimetype": "text/x-python",
   "name": "python",
   "nbconvert_exporter": "python",
   "pygments_lexer": "ipython3",
   "version": "3.5.2"
  }
 },
 "nbformat": 4,
 "nbformat_minor": 0
}
